{
 "cells": [
  {
   "cell_type": "markdown",
   "metadata": {},
   "source": [
    "## Problem Set 1\n",
    "- Intertemporal Choicecs"
   ]
  },
  {
   "cell_type": "markdown",
   "metadata": {},
   "source": [
    "### Problem 1.\n",
    "Friedman (1957)’s Permanent Income Hypothesis. Answer the following\n",
    "questions under the assumption that Friedman’s Permanent Income Hypothesis\n",
    "$c_{i} = p_{i}$ is true. Assume that income in each period for each household is given\n",
    "by $y_{t;i} = p_{i} + \\xi_{t;i}$ where $\\xi_{t;i}$ is a mean-0 random (‘white noise’) transitory shock to\n",
    "income."
   ]
  },
  {
   "cell_type": "markdown",
   "metadata": {},
   "source": [
    "### a) \n",
    "  Suppose that you have consumption and income\n",
    "  data for a cross-section of households in a particular year.  Suppose further that you know that\n",
    "  the variance of transitory income is higher for farmers than it is\n",
    "  for members of other occupational groups.  Now imagine estimating a\n",
    "  Keynesian consumption function $c_{i} =\n",
    "  \\alpha_{0}+\\alpha_{1}y_{i}+\\epsilon_{i}$.  How would you expect\n",
    "  the estimated coefficients $\\alpha_{1}$ to differ between the farmers in your sample\n",
    "  and the rest of the population?  Do you need to know any other\n",
    "  information to answer the question definitively?\n",
    "\n",
    "  Use the Python computer programming language, simulate 50\n",
    "  observations of $y_{i}$ for each group (farmers and non-farmers),\n",
    "  with:\n",
    "\n",
    "  i   $\\sigma_{p,farm}^{2}=\\sigma_{p,nonfarm}^{2}$, $\\sigma_{\\xi,farm}^{2}=3\\sigma_{\\xi,nonfarm}^{2}$\n",
    "  \n",
    "  ii  $\\sigma_{p,farm}^{2}=10\\sigma_{p,nonfarm}^{2}$, $\\sigma_{\\xi,farm}^{2}=3\\sigma_{\\xi,nonfarm}^{2}$\n",
    "  \n",
    "  iii $\\sigma_{p,farm}^{2}=0.1\\sigma_{p,nonfarm}^{2}$, $\\sigma_{\\xi,farm}^{2}=3\\sigma_{\\xi,nonfarm}^{2}$\n",
    "\n",
    "For purposes of these simulations, assume that\n",
    "$\\{\\sigma_{p,nonfarm}^{2},\\sigma_{\\xi,nonfarm}^{2}\\}={0.01,0.02}$.\n",
    "For each scenario, estimate coefficient $\\alpha_{1}$ of the Keynesian\n",
    "consumption function, draw the observations and estimated consumption\n",
    "function on a graph with $y$ on the horizontal axis and $p$ on\n",
    "the vertical axis (use different colors for different groups). Make\n",
    "sure you include a 45-degree line (corresponding to $c=y$) on\n",
    "each graph. Relate your results to the first part of this question,\n",
    "and briefly discuss what these graphs tell you. Do the graphs support\n",
    "your answers?"
   ]
  },
  {
   "cell_type": "markdown",
   "metadata": {},
   "source": [
    "##### Answer\n"
   ]
  },
  {
   "cell_type": "markdown",
   "metadata": {},
   "source": [
    "### b) \n",
    "Imagine that you observe a set of households for two consecutive\n",
    "periods, $t$ and $t+1$.  What relationship should you find between the\n",
    "saving rate at time $t$ and income growth between $t$ and $t+1$?\n",
    "\n",
    "Using Python again, simulate 50 observations of $y_{i}$ for each of\n",
    "two consecutive periods $t$ and $t+1$.  Assume that any individual\n",
    "household's permanent income does not change from period $t$ to $t+1$.\n",
    "\n",
    "For each household, calculate the simulated saving rate in period $t$,\n",
    "the growth rate of income between $t$ and $t+1$, and draw them on a\n",
    "graph (Hint: Put the saving rate in period $t$ on the x-axis, and\n",
    "income growth between $t$ and $t+1$ on the y-axis. Your graph should\n",
    "consist of 50 points). Relate your results to the first part of this\n",
    "question, and briefly discuss what these graphs tell you.  Do the graphs\n",
    "support your answers?"
   ]
  },
  {
   "cell_type": "markdown",
   "metadata": {},
   "source": [
    "#### Answer"
   ]
  },
  {
   "cell_type": "markdown",
   "metadata": {},
   "source": [
    "### c) \n",
    "In his 1992 State of the Union address, President George\n",
    "      H.W. Bush said that, in order to spur consumer spending, he was\n",
    "      instructing the IRS to reduce the rate at which income taxes\n",
    "      were withheld from taxpayers' wages.  Income tax rates were not\n",
    "      changed, only the timing of when consumers would pay those\n",
    "      taxes.  What effect might you expect this change in withholding\n",
    "      to have had on consumption?"
   ]
  },
  {
   "cell_type": "markdown",
   "metadata": {},
   "source": [
    "#### Answer"
   ]
  }
 ],
 "metadata": {
  "anaconda-cloud": {},
  "kernelspec": {
   "display_name": "Python 3",
   "language": "python",
   "name": "python3"
  },
  "language_info": {
   "codemirror_mode": {
    "name": "ipython",
    "version": 3
   },
   "file_extension": ".py",
   "mimetype": "text/x-python",
   "name": "python",
   "nbconvert_exporter": "python",
   "pygments_lexer": "ipython3",
   "version": "3.6.3"
  }
 },
 "nbformat": 4,
 "nbformat_minor": 1
}
